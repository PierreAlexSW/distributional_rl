{
 "cells": [
  {
   "cell_type": "code",
   "execution_count": 3,
   "metadata": {},
   "outputs": [],
   "source": [
    "import gym\n",
    "import random\n",
    "import torch\n",
    "import numpy as np\n",
    "from collections import deque\n",
    "import matplotlib.pyplot as plt\n",
    "from agents.q_learner import Q_learner\n",
    "\n",
    "%matplotlib inline"
   ]
  },
  {
   "cell_type": "code",
   "execution_count": 63,
   "metadata": {},
   "outputs": [
    {
     "name": "stdout",
     "output_type": "stream",
     "text": [
      "tensor([150.0113, 149.9700, 151.8809, 150.0035, 150.7585, 149.8925, 150.2532,\n",
      "        149.5263, 149.3126, 149.4763])\n",
      "tensor([[-0.0973,  0.7963,  0.3416],\n",
      "        [-1.2361, -0.6552, -2.2615],\n",
      "        [ 1.1132, -0.0305, -0.4524],\n",
      "        [-0.3548,  1.4792, -0.7370]])\n",
      "tensor(-0.6552)\n",
      "tensor([[-0.7525,  0.1411, -0.3137],\n",
      "        [-1.8913, -1.3105, -2.9167],\n",
      "        [ 0.4580, -0.6857, -1.1076],\n",
      "        [-1.0100,  0.8239, -1.3922]])\n"
     ]
    }
   ],
   "source": [
    "x = torch.randn(10)\n",
    "print((x+300)/2)\n",
    "y = torch.randn(4,3)\n",
    "print(y)\n",
    "print(y[:,1][1])\n",
    "print(y[:,1][1] +y)"
   ]
  },
  {
   "cell_type": "code",
   "execution_count": 2,
   "metadata": {},
   "outputs": [],
   "source": [
    "args = dict()\n",
    "args[\"BUFFER_SIZE\"] = int(500)  # replay buffer size\n",
    "args[\"BATCH_SIZE\"] = 32  # minibatch size\n",
    "args[\"GAMMA\"] = 0.95  # discount factor\n",
    "args[\"TAU\"] = 1e-3  # for soft update of target parameters\n",
    "args[\"LR\"] = 0.001  # learning rate\n",
    "args[\"UPDATE_EVERY\"] = 4  # how often to update the network"
   ]
  },
  {
   "cell_type": "code",
   "execution_count": 5,
   "metadata": {},
   "outputs": [],
   "source": [
    "env = gym.make('CartPole-v1')\n",
    "env.seed(0)\n",
    "agent = Q_learner(state_size=env.observation_space.shape[0], action_size= env.action_space.n, seed=0, hiddens = [24,24], args = args)\n"
   ]
  },
  {
   "cell_type": "code",
   "execution_count": 6,
   "metadata": {},
   "outputs": [
    {
     "name": "stdout",
     "output_type": "stream",
     "text": [
      "Episode 100\tAverage Score: 18.67\n",
      "Episode 200\tAverage Score: 13.42\n",
      "Episode 300\tAverage Score: 11.40\n",
      "Episode 400\tAverage Score: 10.34\n",
      "Episode 500\tAverage Score: 10.19\n",
      "Episode 600\tAverage Score: 9.690\n",
      "Episode 700\tAverage Score: 10.18\n",
      "Episode 800\tAverage Score: 9.435\n",
      "Episode 900\tAverage Score: 9.39\n",
      "Episode 1000\tAverage Score: 9.37\n",
      "Episode 1100\tAverage Score: 9.39\n",
      "Episode 1200\tAverage Score: 9.50\n",
      "Episode 1300\tAverage Score: 17.33\n",
      "Episode 1400\tAverage Score: 66.28\n",
      "Episode 1500\tAverage Score: 52.31\n",
      "Episode 1600\tAverage Score: 25.60\n",
      "Episode 1700\tAverage Score: 26.67\n",
      "Episode 1800\tAverage Score: 37.34\n",
      "Episode 1900\tAverage Score: 152.93\n",
      "Episode 1921\tAverage Score: 202.30\n",
      "Environment solved in 1821 episodes!\tAverage Score: 202.30\n"
     ]
    },
    {
     "data": {
      "image/png": "[encoded data removed]",
      "text/plain": [
       "<Figure size 432x288 with 1 Axes>"
      ]
     },
     "metadata": {
      "needs_background": "light"
     },
     "output_type": "display_data"
    }
   ],
   "source": [
    "def dqn(n_episodes=10000, max_t=1000, eps_start=1, eps_end=0.01, eps_decay=0.995):\n",
    "\n",
    "    scores = []                        # list containing scores from each episode\n",
    "    scores_window = deque(maxlen=100)  # last 100 scores\n",
    "    eps = eps_start                    # initialize epsilon\n",
    "    for i_episode in range(1, n_episodes+1):\n",
    "        state = env.reset()\n",
    "        score = 0\n",
    "        for t in range(max_t):\n",
    "            action = agent.act(state, eps)\n",
    "            next_state, reward, done, _ = env.step(action)\n",
    "            agent.step(state, action, reward, next_state, done)\n",
    "            state = next_state\n",
    "            score += reward\n",
    "            if done:\n",
    "                break \n",
    "        scores_window.append(score)       # save most recent score\n",
    "        scores.append(score)              # save most recent score\n",
    "        eps = max(eps_end, eps_decay*eps) # decrease epsilon\n",
    "        \n",
    "        print('\\rEpisode {}\\tAverage Score: {:.2f}'.format(i_episode, np.mean(scores_window)), end=\"\")\n",
    "        if i_episode % 100 == 0:\n",
    "            print('\\rEpisode {}\\tAverage Score: {:.2f}'.format(i_episode, np.mean(scores_window)))\n",
    "        if np.mean(scores_window)>=200.0:\n",
    "            print('\\nEnvironment solved in {:d} episodes!\\tAverage Score: {:.2f}'.format(i_episode-100, np.mean(scores_window)))\n",
    "            torch.save(agent.qnetwork_local.state_dict(), 'models/checkpoints/checkpoint.pth')\n",
    "            break\n",
    "    return scores\n",
    "\n",
    "scores = dqn()\n",
    "\n",
    "# plot the scores\n",
    "fig = plt.figure()\n",
    "ax = fig.add_subplot(111)\n",
    "plt.plot(np.arange(len(scores)), scores)\n",
    "plt.ylabel('Score')\n",
    "plt.xlabel('Episode #')\n",
    "plt.show()\n"
   ]
  },
  {
   "cell_type": "code",
   "execution_count": null,
   "metadata": {},
   "outputs": [],
   "source": []
  }
 ],
 "metadata": {
  "kernelspec": {
   "display_name": "Python 3",
   "language": "python",
   "name": "python3"
  },
  "language_info": {
   "codemirror_mode": {
    "name": "ipython",
    "version": 3
   },
   "file_extension": ".py",
   "mimetype": "text/x-python",
   "name": "python",
   "nbconvert_exporter": "python",
   "pygments_lexer": "ipython3",
   "version": "3.6.4"
  }
 },
 "nbformat": 4,
 "nbformat_minor": 2
}
